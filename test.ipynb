{
 "cells": [
  {
   "cell_type": "code",
   "execution_count": 7,
   "metadata": {},
   "outputs": [],
   "source": [
    "arr = [1,2,3,3,5,8,8,10,10,11]\n",
    "k = 10"
   ]
  },
  {
   "cell_type": "code",
   "execution_count": 9,
   "metadata": {},
   "outputs": [
    {
     "name": "stdout",
     "output_type": "stream",
     "text": [
      "[1, 2, 3, 3, 5, 8, 8, 10, 10, 11] 10\n",
      "low_bound:7\n",
      "upper_bound:9\n"
     ]
    }
   ],
   "source": [
    "    \n",
    "def lower_bound(arr,k):\n",
    "    low = 0\n",
    "    high = len(arr)-1\n",
    "\n",
    "    low_bound = -1\n",
    "\n",
    "    while (low<=high):\n",
    "        mid = (low+high)//2\n",
    "\n",
    "        if arr[mid] >= k:\n",
    "            high = mid-1\n",
    "            low_bound = mid\n",
    "        else:\n",
    "            low = mid+1\n",
    "\n",
    "\n",
    "    print(f\"low_bound:{low_bound}\")\n",
    "\n",
    "def upper_bound(arr,k):\n",
    "    low = 0\n",
    "    high = len(arr)-1\n",
    "\n",
    "    upper_bound = -1\n",
    "\n",
    "    while (low<=high):\n",
    "        mid = (low+high)//2\n",
    "\n",
    "        if arr[mid] > k:\n",
    "            high = mid-1\n",
    "            upper_bound = mid\n",
    "        else:\n",
    "            low = mid+1\n",
    "\n",
    "\n",
    "    print(f\"upper_bound:{upper_bound}\")\n",
    "\n",
    "print(arr,k)\n",
    "lower_bound(arr,k)\n",
    "upper_bound(arr,k)\n"
   ]
  },
  {
   "cell_type": "code",
   "execution_count": null,
   "metadata": {},
   "outputs": [],
   "source": []
  },
  {
   "cell_type": "code",
   "execution_count": null,
   "metadata": {},
   "outputs": [],
   "source": []
  }
 ],
 "metadata": {
  "kernelspec": {
   "display_name": "base",
   "language": "python",
   "name": "python3"
  },
  "language_info": {
   "codemirror_mode": {
    "name": "ipython",
    "version": 3
   },
   "file_extension": ".py",
   "mimetype": "text/x-python",
   "name": "python",
   "nbconvert_exporter": "python",
   "pygments_lexer": "ipython3",
   "version": "3.9.7"
  }
 },
 "nbformat": 4,
 "nbformat_minor": 2
}
