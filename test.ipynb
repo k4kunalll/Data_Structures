{
 "cells": [
  {
   "cell_type": "code",
   "execution_count": 93,
   "metadata": {},
   "outputs": [],
   "source": [
    "a = [7,8,9,1,2,3,4,5,6]\n",
    "t = 9"
   ]
  },
  {
   "cell_type": "code",
   "execution_count": 94,
   "metadata": {},
   "outputs": [],
   "source": [
    "low = 0\n",
    "high = len(a)-1"
   ]
  },
  {
   "cell_type": "code",
   "execution_count": 97,
   "metadata": {},
   "outputs": [
    {
     "name": "stdout",
     "output_type": "stream",
     "text": [
      "2\n"
     ]
    }
   ],
   "source": [
    "mid = (low+high)//2\n",
    "\n",
    "if a[mid] == t:\n",
    "    print(mid)\n",
    "elif a[low] < a[mid]:\n",
    "    if a[low] <= t <= a[mid]:\n",
    "        high = mid-1 \n",
    "    else:\n",
    "        low = mid+1\n",
    "else:\n",
    "    if a[mid] <= t <= a[high]:\n",
    "        low = mid+1\n",
    "    else:\n",
    "        high = mid-1"
   ]
  }
 ],
 "metadata": {
  "kernelspec": {
   "display_name": "base",
   "language": "python",
   "name": "python3"
  },
  "language_info": {
   "codemirror_mode": {
    "name": "ipython",
    "version": 3
   },
   "file_extension": ".py",
   "mimetype": "text/x-python",
   "name": "python",
   "nbconvert_exporter": "python",
   "pygments_lexer": "ipython3",
   "version": "3.9.7"
  }
 },
 "nbformat": 4,
 "nbformat_minor": 2
}
